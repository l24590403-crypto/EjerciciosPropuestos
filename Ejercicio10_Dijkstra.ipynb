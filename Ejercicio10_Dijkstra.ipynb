{
  "nbformat": 4,
  "nbformat_minor": 0,
  "metadata": {
    "colab": {
      "provenance": [],
      "include_colab_link": true
    },
    "kernelspec": {
      "name": "python3",
      "display_name": "Python 3"
    },
    "language_info": {
      "name": "python"
    }
  },
  "cells": [
    {
      "cell_type": "markdown",
      "metadata": {
        "id": "view-in-github",
        "colab_type": "text"
      },
      "source": [
        "<a href=\"https://colab.research.google.com/github/l24590403-crypto/EjerciciosPropuestos/blob/main/Ejercicio10_Dijkstra.ipynb\" target=\"_parent\"><img src=\"https://colab.research.google.com/assets/colab-badge.svg\" alt=\"Open In Colab\"/></a>"
      ]
    },
    {
      "cell_type": "code",
      "source": [
        "class GrafoPonderado:\n",
        "    def __init__(self):\n",
        "        self.ady = {}\n",
        "\n",
        "    def agregar_vertice(self, v):\n",
        "        if v not in self.ady:\n",
        "            self.ady[v] = []\n",
        "\n",
        "    def agregar_arista(self, v1, v2, peso):\n",
        "        if v1 in self.ady and v2 in self.ady:\n",
        "            self.ady[v1].append((v2, peso))\n",
        "            self.ady[v2].append((v1, peso))\n",
        "\n",
        "    def dijkstra(self, origen):\n",
        "        distancias = {vertice: float('infinity') for vertice in self.ady}\n",
        "        distancias[origen] = 0\n",
        "        visitados = set()\n",
        "\n",
        "        for _ in range(len(self.ady)):\n",
        "            vertice_actual = None\n",
        "            distancia_minima = float('infinity')\n",
        "\n",
        "            for vertice, distancia in distancias.items():\n",
        "                if distancia < distancia_minima and vertice not in visitados:\n",
        "                    distancia_minima = distancia\n",
        "                    vertice_actual = vertice\n",
        "\n",
        "            if vertice_actual is None:\n",
        "                break\n",
        "\n",
        "            visitados.add(vertice_actual)\n",
        "\n",
        "            for vecino, peso_arista in self.ady[vertice_actual]:\n",
        "                distancia_nueva = distancias[vertice_actual] + peso_arista\n",
        "\n",
        "                if distancia_nueva < distancias[vecino]:\n",
        "                    distancias[vecino] = distancia_nueva\n",
        "\n",
        "        return distancias\n",
        "\n",
        "mapa = GrafoPonderado()\n",
        "\n",
        "ciudades = [\"Ciudad A\", \"Ciudad B\", \"Ciudad C\", \"Ciudad D\", \"Ciudad E\"]\n",
        "for ciudad in ciudades:\n",
        "    mapa.agregar_vertice(ciudad)\n",
        "\n",
        "mapa.agregar_arista(\"Ciudad A\", \"Ciudad B\", 7)\n",
        "mapa.agregar_arista(\"Ciudad A\", \"Ciudad C\", 3)\n",
        "mapa.agregar_arista(\"Ciudad B\", \"Ciudad C\", 1)\n",
        "mapa.agregar_arista(\"Ciudad B\", \"Ciudad D\", 2)\n",
        "mapa.agregar_arista(\"Ciudad C\", \"Ciudad D\", 2)\n",
        "mapa.agregar_arista(\"Ciudad D\", \"Ciudad E\", 5)\n",
        "\n",
        "ciudad_origen = \"Ciudad A\"\n",
        "distancias_minimas = mapa.dijkstra(ciudad_origen)\n",
        "\n",
        "print(f\" Las distancias más cortas desde '{ciudad_origen}':\")\n",
        "for ciudad, distancia in distancias_minimas.items():\n",
        "    if distancia == float('infinity'):\n",
        "        print(f\"  - A '{ciudad}': No hay ruta disponible.\")\n",
        "    else:\n",
        "        print(f\"  - A '{ciudad}': {distancia} km\")"
      ],
      "metadata": {
        "colab": {
          "base_uri": "https://localhost:8080/"
        },
        "id": "gYnLtVfIDq9b",
        "outputId": "c3fe3ff2-1b97-4c4c-ca81-0c21469ce692"
      },
      "execution_count": 2,
      "outputs": [
        {
          "output_type": "stream",
          "name": "stdout",
          "text": [
            "🏆 Las distancias más cortas desde 'Ciudad A':\n",
            "  - A 'Ciudad A': 0 km\n",
            "  - A 'Ciudad B': 4 km\n",
            "  - A 'Ciudad C': 3 km\n",
            "  - A 'Ciudad D': 5 km\n",
            "  - A 'Ciudad E': 10 km\n"
          ]
        }
      ]
    }
  ]
}