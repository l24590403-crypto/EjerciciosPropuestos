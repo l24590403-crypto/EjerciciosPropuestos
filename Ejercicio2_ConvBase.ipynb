{
  "nbformat": 4,
  "nbformat_minor": 0,
  "metadata": {
    "colab": {
      "provenance": [],
      "include_colab_link": true
    },
    "kernelspec": {
      "name": "python3",
      "display_name": "Python 3"
    },
    "language_info": {
      "name": "python"
    }
  },
  "cells": [
    {
      "cell_type": "markdown",
      "metadata": {
        "id": "view-in-github",
        "colab_type": "text"
      },
      "source": [
        "<a href=\"https://colab.research.google.com/github/l24590403-crypto/EjerciciosPropuestos/blob/main/Ejercicio2_ConvBase.ipynb\" target=\"_parent\"><img src=\"https://colab.research.google.com/assets/colab-badge.svg\" alt=\"Open In Colab\"/></a>"
      ]
    },
    {
      "cell_type": "code",
      "execution_count": null,
      "metadata": {
        "colab": {
          "base_uri": "https://localhost:8080/"
        },
        "id": "g94VfDpwt7fS",
        "outputId": "36b25b44-5801-4774-b87e-bff01506d4d4"
      },
      "outputs": [
        {
          "output_type": "stream",
          "name": "stdout",
          "text": [
            "* * * Conversión de Decimal a Binario * * *\n",
            "\n",
            "Ingresa un número decimal para convertir a binario: 98\n",
            "✅ El resultado es: 1100010\n"
          ]
        }
      ],
      "source": [
        "class Pila:\n",
        "    def __init__(self):\n",
        "        self.items = []\n",
        "\n",
        "    def push(self, dato):\n",
        "        self.items.append(dato)\n",
        "\n",
        "    def pop(self):\n",
        "        return self.items.pop() if not self.is_empty() else None\n",
        "\n",
        "    def is_empty(self):\n",
        "        return len(self.items) == 0\n",
        "\n",
        "def decimal_a_binario(numero_decimal):\n",
        "    if numero_decimal == 0:\n",
        "        return \"0\"\n",
        "\n",
        "    pila = Pila()\n",
        "\n",
        "    while numero_decimal > 0:\n",
        "        residuo = numero_decimal % 2\n",
        "        pila.push(residuo)\n",
        "        numero_decimal = numero_decimal // 2\n",
        "\n",
        "    binario = \"\"\n",
        "    while not pila.is_empty():\n",
        "        binario += str(pila.pop())\n",
        "\n",
        "    return binario\n",
        "\n",
        "try:\n",
        "    print(\"* * * Conversión de Decimal a Binario * * *\")\n",
        "    num = int(input(\"\\nIngresa un número decimal para convertir a binario: \"))\n",
        "    resultado_binario = decimal_a_binario(num)\n",
        "    print(f\"✅ El resultado es: {resultado_binario}\")\n",
        "except ValueError:\n",
        "    print(\"❌ Error: Por favor, ingresa un número entero válido.\")"
      ]
    }
  ]
}