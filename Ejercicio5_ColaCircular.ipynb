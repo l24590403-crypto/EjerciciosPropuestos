{
  "nbformat": 4,
  "nbformat_minor": 0,
  "metadata": {
    "colab": {
      "provenance": [],
      "include_colab_link": true
    },
    "kernelspec": {
      "name": "python3",
      "display_name": "Python 3"
    },
    "language_info": {
      "name": "python"
    }
  },
  "cells": [
    {
      "cell_type": "markdown",
      "metadata": {
        "id": "view-in-github",
        "colab_type": "text"
      },
      "source": [
        "<a href=\"https://colab.research.google.com/github/l24590403-crypto/EjerciciosPropuestos/blob/main/Ejercicio5_ColaCircular.ipynb\" target=\"_parent\"><img src=\"https://colab.research.google.com/assets/colab-badge.svg\" alt=\"Open In Colab\"/></a>"
      ]
    },
    {
      "cell_type": "code",
      "execution_count": 1,
      "metadata": {
        "id": "dW0fpEPtExB4",
        "colab": {
          "base_uri": "https://localhost:8080/"
        },
        "outputId": "87a366f9-0f9a-46b7-96b1-55366857f27d"
      },
      "outputs": [
        {
          "output_type": "stream",
          "name": "stdout",
          "text": [
            "--- CONFIGURACIÓN DE LA PARTIDA ---\n",
            "Ingresa el nombre de un jugador (o escribe 'listo' para empezar): pepe\n",
            "pepe se ha unido al juego.\n",
            "Ingresa el nombre de un jugador (o escribe 'listo' para empezar): pedro\n",
            "pedro se ha unido al juego.\n",
            "Ingresa el nombre de un jugador (o escribe 'listo' para empezar): gael\n",
            "gael se ha unido al juego.\n",
            "Ingresa el nombre de un jugador (o escribe 'listo' para empezar): listo\n",
            "\n",
            "=====\n",
            "¡QUE EMPIECE EL JUEGO!\n",
            "=====\n",
            "\n",
            "--- Menú de Turnos ---\n",
            "Próximos turnos: ['pepe', 'pedro', 'gael']\n",
            "1. Pasar al siguiente turno\n",
            "2. Ver orden de turnos\n",
            "3. Terminar juego\n",
            "Elige una opción: 2\n",
            "\n",
            "El orden de turnos es: ['pepe', 'pedro', 'gael']\n",
            "\n",
            "--- Menú de Turnos ---\n",
            "Próximos turnos: ['pepe', 'pedro', 'gael']\n",
            "1. Pasar al siguiente turno\n",
            "2. Ver orden de turnos\n",
            "3. Terminar juego\n",
            "Elige una opción: 1\n",
            "\n",
            "▶¡Es el turno de: pepe!\n",
            "   (Presiona Enter para continuar...)\n",
            "\n",
            "--- Menú de Turnos ---\n",
            "Próximos turnos: ['pedro', 'gael', 'pepe']\n",
            "1. Pasar al siguiente turno\n",
            "2. Ver orden de turnos\n",
            "3. Terminar juego\n",
            "Elige una opción: 1\n",
            "\n",
            "▶¡Es el turno de: pedro!\n",
            "   (Presiona Enter para continuar...)\n",
            "\n",
            "--- Menú de Turnos ---\n",
            "Próximos turnos: ['gael', 'pepe', 'pedro']\n",
            "1. Pasar al siguiente turno\n",
            "2. Ver orden de turnos\n",
            "3. Terminar juego\n",
            "Elige una opción: 3\n",
            "\n",
            "¡Juego terminado!\n"
          ]
        }
      ],
      "source": [
        "\n",
        "class Cola:\n",
        "    def __init__(self):\n",
        "        self.items = []\n",
        "\n",
        "    def enqueue(self, dato):\n",
        "        self.items.append(dato)\n",
        "\n",
        "    def dequeue(self):\n",
        "        return self.items.pop(0) if not self.is_empty() else None\n",
        "\n",
        "    def is_empty(self):\n",
        "        return len(self.items) == 0\n",
        "\n",
        "\n",
        "juego_turnos = Cola()\n",
        "\n",
        "print(\"--- CONFIGURACIÓN DE LA PARTIDA ---\")\n",
        "while True:\n",
        "    nombre_jugador = input(\"Ingresa el nombre de un jugador (o escribe 'listo' para empezar): \")\n",
        "    if nombre_jugador.lower() == 'listo':\n",
        "        if not juego_turnos.is_empty():\n",
        "            break\n",
        "        else:\n",
        "            print(\"Debes agregar al menos un jugador.\")\n",
        "    else:\n",
        "        juego_turnos.enqueue(nombre_jugador)\n",
        "        print(f\"{nombre_jugador} se ha unido al juego.\")\n",
        "\n",
        "\n",
        "print(\"\\n\" + \"=\"*5)\n",
        "print(\"¡QUE EMPIECE EL JUEGO!\")\n",
        "print(\"=\"*5)\n",
        "\n",
        "opcion = 0\n",
        "while opcion != 3:\n",
        "    print(\"\\n--- Menú de Turnos ---\")\n",
        "    print(f\"Próximos turnos: {juego_turnos.items}\")\n",
        "    print(\"1. Pasar al siguiente turno\")\n",
        "    print(\"2. Ver orden de turnos\")\n",
        "    print(\"3. Terminar juego\")\n",
        "    try:\n",
        "        opcion = int(input(\"Elige una opción: \"))\n",
        "    except ValueError:\n",
        "        print(\"Error: Ingresa un número válido.\")\n",
        "        continue\n",
        "\n",
        "    if opcion == 1:\n",
        "        if not juego_turnos.is_empty():\n",
        "            jugador_actual = juego_turnos.dequeue()\n",
        "            juego_turnos.enqueue(jugador_actual)\n",
        "            print(f\"\\n▶¡Es el turno de: {jugador_actual}!\")\n",
        "            input(\"   (Presiona Enter para continuar...)\")\n",
        "        else:\n",
        "            print(\"No hay jugadores en el juego.\")\n",
        "    elif opcion == 2:\n",
        "        print(f\"\\nEl orden de turnos es: {juego_turnos.items}\")\n",
        "    elif opcion == 3:\n",
        "        print(\"\\n¡Juego terminado!\")\n",
        "    else:\n",
        "        print(\"Opción no válida.\")"
      ]
    }
  ]
}