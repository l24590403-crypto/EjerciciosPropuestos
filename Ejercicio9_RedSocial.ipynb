{
  "nbformat": 4,
  "nbformat_minor": 0,
  "metadata": {
    "colab": {
      "provenance": [],
      "include_colab_link": true
    },
    "kernelspec": {
      "name": "python3",
      "display_name": "Python 3"
    },
    "language_info": {
      "name": "python"
    }
  },
  "cells": [
    {
      "cell_type": "markdown",
      "metadata": {
        "id": "view-in-github",
        "colab_type": "text"
      },
      "source": [
        "<a href=\"https://colab.research.google.com/github/l24590403-crypto/EjerciciosPropuestos/blob/main/Ejercicio9_RedSocial.ipynb\" target=\"_parent\"><img src=\"https://colab.research.google.com/assets/colab-badge.svg\" alt=\"Open In Colab\"/></a>"
      ]
    },
    {
      "cell_type": "code",
      "execution_count": null,
      "metadata": {
        "id": "IndFbwJDBAT7"
      },
      "outputs": [],
      "source": [
        "class Grafo:\n",
        "    def __init__(self):\n",
        "        self.ady = {}\n",
        "\n",
        "    def agregar_vertice(self, v):\n",
        "        if v not in self.ady:\n",
        "            self.ady[v] = []\n",
        "\n",
        "    def agregar_arista(self, v1, v2):\n",
        "        if v1 in self.ady and v2 in self.ady:\n",
        "            self.ady[v1].append(v2)\n",
        "            self.ady[v2].append(v1)\n",
        "\n",
        "    def sugerir_amigos(self, persona):\n",
        "        \"\"\"Sugiere amigos para una persona basándose en los amigos de sus amigos.\"\"\"\n",
        "        if persona not in self.ady:\n",
        "            return f\"{persona} no se encuentra en la red social.\"\n",
        "\n",
        "        amigos_directos = set(self.ady[persona])\n",
        "        sugerencias = set()\n",
        "\n",
        "        for amigo in amigos_directos:\n",
        "            for amigo_del_amigo in self.ady[amigo]:\n",
        "                sugerencias.add(amigo_del_amigo)\n",
        "\n",
        "        sugerencias.discard(persona)\n",
        "\n",
        "        sugerencias_finales = sugerencias - amigos_directos\n",
        "\n",
        "        return list(sugerencias_finales)\n",
        "\n",
        "red_social = Grafo()\n",
        "\n",
        "personas = [\"Ana\", \"Beto\", \"Carla\", \"David\", \"Eva\", \"Franco\"]\n",
        "for persona in personas:\n",
        "    red_social.agregar_vertice(persona)\n",
        "\n",
        "red_social.agregar_arista(\"Ana\", \"Beto\")\n",
        "red_social.agregar_arista(\"Ana\", \"Carla\")\n",
        "red_social.agregar_arista(\"Beto\", \"David\")\n",
        "red_social.agregar_arista(\"Carla\", \"Eva\")\n",
        "red_social.agregar_arista(\"David\", \"Franco\")\n",
        "\n",
        "print(\" Red social creada.\")\n",
        "sugerencias_para_ana = red_social.sugerir_amigos(usuario)\n",
        "\n",
        "print(f\"\\n Personas que quizá conozcas (sugerencias para {usuario}):\")\n",
        "if sugerencias_para_ana:\n",
        "    print(sugerencias_para_ana)\n",
        "else:\n",
        "    print(\"No hay sugerencias por el momento.\")\n",
        "\n",
        "usuario = \"David\"\n",
        "sugerencias_para_david = red_social.sugerir_amigos(usuario)\n",
        "print(f\"\\n Personas que quizá conozcas (sugerencias para {usuario}):\")\n",
        "print(sugerencias_para_david)"
      ]
    }
  ]
}