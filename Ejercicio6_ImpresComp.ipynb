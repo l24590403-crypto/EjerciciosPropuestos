{
  "nbformat": 4,
  "nbformat_minor": 0,
  "metadata": {
    "colab": {
      "provenance": [],
      "authorship_tag": "ABX9TyN+/RCkgNNlxgpM+jFL1GvX",
      "include_colab_link": true
    },
    "kernelspec": {
      "name": "python3",
      "display_name": "Python 3"
    },
    "language_info": {
      "name": "python"
    }
  },
  "cells": [
    {
      "cell_type": "markdown",
      "metadata": {
        "id": "view-in-github",
        "colab_type": "text"
      },
      "source": [
        "<a href=\"https://colab.research.google.com/github/l24590403-crypto/EjerciciosPropuestos/blob/main/Ejercicio6_ImpresComp.ipynb\" target=\"_parent\"><img src=\"https://colab.research.google.com/assets/colab-badge.svg\" alt=\"Open In Colab\"/></a>"
      ]
    },
    {
      "cell_type": "code",
      "execution_count": null,
      "metadata": {
        "id": "1Ia6OlhaFchd"
      },
      "outputs": [],
      "source": [
        "class Cola:\n",
        "    def __init__(self):\n",
        "        self.items = []\n",
        "\n",
        "    def enqueue(self, dato):\n",
        "        \"\"\"Agrega un documento a la cola de impresión.\"\"\"\n",
        "        self.items.append(dato)\n",
        "\n",
        "    def dequeue(self):\n",
        "        \"\"\"Saca el siguiente documento de la cola para imprimirlo.\"\"\"\n",
        "        return self.items.pop(0) if not self.is_empty() else None\n",
        "\n",
        "    def is_empty(self):\n",
        "        \"\"\"Verifica si no hay documentos en espera.\"\"\"\n",
        "        return len(self.items) == 0\n",
        "\n",
        "cola_impresion = Cola()\n",
        "opcion = 0\n",
        "\n",
        "while opcion != 3:\n",
        "    print(\" - - -COLA DE IMPRESIÓN - - -\")\n",
        "    print(f\"Documentos en espera: {len(cola_impresion.items)}\")\n",
        "    print(\"\\n--- MENÚ ---\")\n",
        "    print(\"1. Enviar un documento a imprimir\")\n",
        "    print(\"2. Iniciar proceso de impresión\")\n",
        "    print(\"3. Apagar impresora (Salir)\")\n",
        "\n",
        "    try:\n",
        "        opcion = int(input(\"Elige una opción: \"))\n",
        "    except ValueError:\n",
        "        print(\"Error: Ingresa un número válido.\")\n",
        "        continue\n",
        "\n",
        "    if opcion == 1:\n",
        "        usuario = input(\"Ingresa tu nombre de usuario: \")\n",
        "        nombre_archivo = input(\"Ingresa el nombre del archivo (ej: Tarea.docx): \")\n",
        "\n",
        "        documento = {\n",
        "            \"usuario\": usuario,\n",
        "            \"archivo\": nombre_archivo\n",
        "        }\n",
        "\n",
        "        cola_impresion.enqueue(documento)\n",
        "        print(f\"Documento '{nombre_archivo}' de '{usuario}' ha sido agregado a la cola.\")\n",
        "\n",
        "    elif opcion == 2:\n",
        "        if cola_impresion.is_empty():\n",
        "            print(\"No hay documentos en la cola de impresión.\")\n",
        "        else:\n",
        "            print(\"\\n--- Iniciando trabajos de impresión ---\")\n",
        "            while not cola_impresion.is_empty():\n",
        "                documento_a_imprimir = cola_impresion.dequeue()\n",
        "                usuario = documento_a_imprimir[\"usuario\"]\n",
        "                archivo = documento_a_imprimir[\"archivo\"]\n",
        "\n",
        "                print(f\"\\n▶Imprimiendo '{archivo}' enviado por '{usuario}'...\")\n",
        "                print(f\"¡Impresión de '{archivo}' completada!\")\n",
        "            print(\"\\n--- Todos los documentos han sido impresos. ---\")\n",
        "\n",
        "    elif opcion == 3:\n",
        "        print(\"Apagando la impresora...\")\n",
        "\n",
        "    else:\n",
        "        print(\"Opción no válida.\")"
      ]
    }
  ]
}