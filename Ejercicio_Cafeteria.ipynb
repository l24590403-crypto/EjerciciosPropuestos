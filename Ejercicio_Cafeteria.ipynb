{
  "nbformat": 4,
  "nbformat_minor": 0,
  "metadata": {
    "colab": {
      "provenance": [],
      "authorship_tag": "ABX9TyMiOF8IkrfRadvaxMaR8b0s",
      "include_colab_link": true
    },
    "kernelspec": {
      "name": "python3",
      "display_name": "Python 3"
    },
    "language_info": {
      "name": "python"
    }
  },
  "cells": [
    {
      "cell_type": "markdown",
      "metadata": {
        "id": "view-in-github",
        "colab_type": "text"
      },
      "source": [
        "<a href=\"https://colab.research.google.com/github/l24590403-crypto/EjerciciosPropuestos/blob/main/Ejercicio_Cafeteria.ipynb\" target=\"_parent\"><img src=\"https://colab.research.google.com/assets/colab-badge.svg\" alt=\"Open In Colab\"/></a>"
      ]
    },
    {
      "cell_type": "markdown",
      "source": [
        "Algorirtmo\n",
        "que resuelvo?\n",
        "-Crear un programa en el cual se simule una cafeteria el cual maneje una fila y una pila , la fila sera de personas numeradas y la pila de los 3 diferentes platillos en un oreden random en la pila\n",
        "\n",
        "Como lo resuelvo?\n",
        "-"
      ],
      "metadata": {
        "id": "S85r7RFYCtG7"
      }
    },
    {
      "cell_type": "code",
      "execution_count": null,
      "metadata": {
        "colab": {
          "base_uri": "https://localhost:8080/"
        },
        "id": "IGiHhWEGCr-5",
        "outputId": "066676b1-e65b-4c93-93e3-e8208bb0fa47"
      },
      "outputs": [
        {
          "output_type": "stream",
          "name": "stdout",
          "text": [
            "Iniciando simulación de venta...\n",
            "\n",
            "Persona 1 : Platillo = Dobladita\n",
            "Persona 2 : Platillo = Torta\n",
            "Persona 3 : Platillo = Sope\n",
            "Persona 4 : Platillo = Dobladita\n",
            "Persona 5 : Platillo = Torta\n",
            "Persona 6 : Platillo = Torta\n",
            "Persona 7 : Platillo = Sope\n",
            "Persona 8 : Platillo = Torta\n",
            "\n",
            "Simulación completada\n",
            "Platillos sobrantes: 2\n"
          ]
        }
      ],
      "source": [
        "import random\n",
        "\n",
        "class Pila:\n",
        "    def __init__(self):\n",
        "        self.items = []\n",
        "\n",
        "    def push(self, dato):\n",
        "        self.items.append(dato)\n",
        "\n",
        "    def pop(self):\n",
        "        return self.items.pop() if not self.is_empty() else None\n",
        "\n",
        "    def is_empty(self):\n",
        "        return len(self.items) == 0\n",
        "\n",
        "    def size(self):\n",
        "        return len(self.items)\n",
        "\n",
        "class Cola:\n",
        "    def __init__(self):\n",
        "        self.items = []\n",
        "\n",
        "    def enqueue(self, dato):\n",
        "        self.items.append(dato)\n",
        "\n",
        "    def dequeue(self):\n",
        "        return self.items.pop(0) if not self.is_empty() else None\n",
        "\n",
        "    def is_empty(self):\n",
        "        return len(self.items) == 0\n",
        "\n",
        "    def size(self):\n",
        "        return len(self.items)\n",
        "\n",
        "class SimuladorCafeteria:\n",
        "    def __init__(self):\n",
        "        self.fila_personas = Cola()\n",
        "        self.pila_platillos = Pila()\n",
        "        self.platillos_disponibles = [\"Torta\", \"Dobladita\", \"Sope\"]\n",
        "\n",
        "    def generar_platillos(self, cantidad):\n",
        "        for _ in range(cantidad):\n",
        "            platillo = random.choice(self.platillos_disponibles)\n",
        "            self.pila_platillos.push(platillo)\n",
        "\n",
        "    def agregar_personas(self, cantidad):\n",
        "        for i in range(cantidad):\n",
        "            self.fila_personas.enqueue(i + 1)\n",
        "\n",
        "    def simular_venta(self):\n",
        "        print(\"Iniciando simulación de venta...\\n\")\n",
        "\n",
        "        while not self.fila_personas.is_empty() and not self.pila_platillos.is_empty():\n",
        "            persona = self.fila_personas.dequeue()\n",
        "            platillo = self.pila_platillos.pop()\n",
        "            print(f\"Persona {persona} : Platillo = {platillo}\")\n",
        "\n",
        "        print(\"\\nSimulación completada\")\n",
        "\n",
        "        if not self.fila_personas.is_empty():\n",
        "            print(f\"Personas sin atender: {self.fila_personas.size()}\")\n",
        "\n",
        "        if not self.pila_platillos.is_empty():\n",
        "            print(f\"Platillos sobrantes: {self.pila_platillos.size()}\")\n",
        "\n",
        "\n",
        "cafeteria = SimuladorCafeteria()\n",
        "\n",
        "cafeteria.generar_platillos(10)\n",
        "\n",
        "cafeteria.agregar_personas(8)\n",
        "\n",
        "cafeteria.simular_venta()"
      ]
    }
  ]
}