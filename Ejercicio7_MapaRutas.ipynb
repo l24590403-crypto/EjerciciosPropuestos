{
  "nbformat": 4,
  "nbformat_minor": 0,
  "metadata": {
    "colab": {
      "provenance": [],
      "include_colab_link": true
    },
    "kernelspec": {
      "name": "python3",
      "display_name": "Python 3"
    },
    "language_info": {
      "name": "python"
    }
  },
  "cells": [
    {
      "cell_type": "markdown",
      "metadata": {
        "id": "view-in-github",
        "colab_type": "text"
      },
      "source": [
        "<a href=\"https://colab.research.google.com/github/l24590403-crypto/EjerciciosPropuestos/blob/main/Ejercicio7_MapaRutas.ipynb\" target=\"_parent\"><img src=\"https://colab.research.google.com/assets/colab-badge.svg\" alt=\"Open In Colab\"/></a>"
      ]
    },
    {
      "cell_type": "code",
      "execution_count": 2,
      "metadata": {
        "id": "o-dqn5ps40Rj",
        "outputId": "1367ef6f-7c30-488d-be67-65597562565e",
        "colab": {
          "base_uri": "https://localhost:8080/"
        }
      },
      "outputs": [
        {
          "output_type": "stream",
          "name": "stdout",
          "text": [
            " Mapa de carreteras creado.\n",
            "\n",
            " Rutas encontradas de Morelia a Querétaro:\n",
            "  Ruta 1: Morelia -> Querétaro\n",
            "  Ruta 2: Morelia -> Guanajuato -> Toluca -> CDMX -> Querétaro\n"
          ]
        }
      ],
      "source": [
        "class Grafo:\n",
        "    def __init__(self):\n",
        "        self.ady = {}\n",
        "\n",
        "    def agregar_vertice(self, v):\n",
        "        if v not in self.ady:\n",
        "            self.ady[v] = []\n",
        "\n",
        "    def agregar_arista(self, v1, v2):\n",
        "        if v1 in self.ady and v2 in self.ady:\n",
        "            self.ady[v1].append(v2)\n",
        "            self.ady[v2].append(v1)\n",
        "\n",
        "    def encontrar_todos_los_caminos(self, inicio, fin):\n",
        "        caminos_encontrados = []\n",
        "\n",
        "        def buscar_dfs(vertice_actual, camino_parcial):\n",
        "            camino_parcial.append(vertice_actual)\n",
        "\n",
        "            if vertice_actual == fin:\n",
        "                caminos_encontrados.append(camino_parcial.copy())\n",
        "            else:\n",
        "                for vecino in self.ady[vertice_actual]:\n",
        "                    if vecino not in camino_parcial:\n",
        "                        buscar_dfs(vecino, camino_parcial)\n",
        "\n",
        "            camino_parcial.pop()\n",
        "\n",
        "        buscar_dfs(inicio, [])\n",
        "        return caminos_encontrados\n",
        "\n",
        "mapa = Grafo()\n",
        "\n",
        "ciudades = [\"Querétaro\", \"CDMX\", \"Morelia\", \"Toluca\", \"Guanajuato\"]\n",
        "for ciudad in ciudades:\n",
        "    mapa.agregar_vertice(ciudad)\n",
        "\n",
        "mapa.agregar_arista(\"Querétaro\", \"CDMX\")\n",
        "mapa.agregar_arista(\"Querétaro\", \"Morelia\")\n",
        "mapa.agregar_arista(\"CDMX\", \"Toluca\")\n",
        "mapa.agregar_arista(\"Morelia\", \"Guanajuato\")\n",
        "mapa.agregar_arista(\"Guanajuato\", \"Toluca\")\n",
        "\n",
        "print(\" Mapa de carreteras creado.\")\n",
        "\n",
        "origen = \"Morelia\"\n",
        "destino = \"Querétaro\"\n",
        "\n",
        "rutas_posibles = mapa.encontrar_todos_los_caminos(origen, destino)\n",
        "\n",
        "print(f\"\\n Rutas encontradas de {origen} a {destino}:\")\n",
        "if rutas_posibles:\n",
        "    for i, ruta in enumerate(rutas_posibles):\n",
        "        print(f\"  Ruta {i+1}: {' -> '.join(ruta)}\")\n",
        "else:\n",
        "    print(\"No se encontraron rutas entre estas dos ciudades.\")"
      ]
    }
  ]
}