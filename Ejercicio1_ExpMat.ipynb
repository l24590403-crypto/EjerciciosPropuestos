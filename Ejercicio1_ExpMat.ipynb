{
  "nbformat": 4,
  "nbformat_minor": 0,
  "metadata": {
    "colab": {
      "provenance": [],
      "include_colab_link": true
    },
    "kernelspec": {
      "name": "python3",
      "display_name": "Python 3"
    },
    "language_info": {
      "name": "python"
    }
  },
  "cells": [
    {
      "cell_type": "markdown",
      "metadata": {
        "id": "view-in-github",
        "colab_type": "text"
      },
      "source": [
        "<a href=\"https://colab.research.google.com/github/l24590403-crypto/EjerciciosPropuestos/blob/main/Ejercicio1_ExpMat.ipynb\" target=\"_parent\"><img src=\"https://colab.research.google.com/assets/colab-badge.svg\" alt=\"Open In Colab\"/></a>"
      ]
    },
    {
      "cell_type": "code",
      "execution_count": null,
      "metadata": {
        "id": "q_WncjcDk0_b",
        "colab": {
          "base_uri": "https://localhost:8080/"
        },
        "outputId": "a1e355c7-61f2-4660-eb87-5fed1f91a8c8"
      },
      "outputs": [
        {
          "output_type": "stream",
          "name": "stdout",
          "text": [
            "'((a+b)*c)' -> La expresión matemática es válida\n",
            "'(a+b))(' -> La expresión matemática NO es válida\n",
            "'((8+9)*6' -> La expresión matemática NO es válida\n"
          ]
        }
      ],
      "source": [
        "class Pila:\n",
        "    def __init__(self):\n",
        "        self.items = []\n",
        "\n",
        "    def push(self, dato):\n",
        "        self.items.append(dato)\n",
        "\n",
        "    def pop(self):\n",
        "        return self.items.pop() if not self.is_empty() else None\n",
        "\n",
        "    def is_empty(self):\n",
        "        return len(self.items) == 0\n",
        "\n",
        "def parentesis_balanceados(expresion):\n",
        "    pila = Pila()\n",
        "    for caracter in expresion:\n",
        "        if caracter == '(':\n",
        "            pila.push(caracter)\n",
        "        elif caracter == ')':\n",
        "            if pila.is_empty():\n",
        "                return False\n",
        "            pila.pop()\n",
        "\n",
        "    return pila.is_empty()\n",
        "\n",
        "# Prueba\n",
        "expresion_valida = \"((a+b)*c)\"\n",
        "expresion_invalida1 = \"(a+b))(\"\n",
        "expresion_invalida2 = \"((8+9)*6\"\n",
        "\n",
        "print(f\"'{expresion_valida}' -> {'La expresión matemática es válida' if parentesis_balanceados(expresion_valida) else 'La expresión matemática NO es válida'}\")\n",
        "print(f\"'{expresion_invalida1}' -> {'La expresión matemática es válida' if parentesis_balanceados(expresion_invalida1) else 'La expresión matemática NO es válida'}\")\n",
        "print(f\"'{expresion_invalida2}' -> {'La expresión matemática es válida' if parentesis_balanceados(expresion_invalida2) else 'La expresión matemática NO es válida'}\")"
      ]
    }
  ]
}