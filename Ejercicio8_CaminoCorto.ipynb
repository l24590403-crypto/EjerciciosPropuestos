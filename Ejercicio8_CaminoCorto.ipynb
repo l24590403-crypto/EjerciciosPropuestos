{
  "nbformat": 4,
  "nbformat_minor": 0,
  "metadata": {
    "colab": {
      "provenance": [],
      "include_colab_link": true
    },
    "kernelspec": {
      "name": "python3",
      "display_name": "Python 3"
    },
    "language_info": {
      "name": "python"
    }
  },
  "cells": [
    {
      "cell_type": "markdown",
      "metadata": {
        "id": "view-in-github",
        "colab_type": "text"
      },
      "source": [
        "<a href=\"https://colab.research.google.com/github/l24590403-crypto/EjerciciosPropuestos/blob/main/Ejercicio8_CaminoCorto.ipynb\" target=\"_parent\"><img src=\"https://colab.research.google.com/assets/colab-badge.svg\" alt=\"Open In Colab\"/></a>"
      ]
    },
    {
      "cell_type": "code",
      "execution_count": 2,
      "metadata": {
        "id": "4uQ6yNKP-hxe",
        "colab": {
          "base_uri": "https://localhost:8080/"
        },
        "outputId": "38e67622-6142-4f38-9a1e-615bd46e2bc6"
      },
      "outputs": [
        {
          "output_type": "stream",
          "name": "stdout",
          "text": [
            " Mapa de carreteras creado.\n",
            "\n",
            " La ruta más corta de Querétaro a Guanajuato es:\n",
            "  Querétaro -> CDMX -> Toluca -> Guanajuato\n",
            "  Distancia: 3 aristas (carreteras).\n"
          ]
        }
      ],
      "source": [
        "from collections import deque\n",
        "\n",
        "class Grafo:\n",
        "    def __init__(self):\n",
        "        self.ady = {}\n",
        "\n",
        "    def agregar_vertice(self, v):\n",
        "        if v not in self.ady:\n",
        "            self.ady[v] = []\n",
        "\n",
        "    def agregar_arista(self, v1, v2):\n",
        "        if v1 in self.ady and v2 in self.ady:\n",
        "            self.ady[v1].append(v2)\n",
        "            self.ady[v2].append(v1)\n",
        "\n",
        "    def bfs_camino_corto(self, inicio, fin):\n",
        "        cola = deque([[inicio]])\n",
        "        visitados = {inicio}\n",
        "\n",
        "        while cola:\n",
        "            camino_actual = cola.popleft()\n",
        "            ultimo_nodo = camino_actual[-1]\n",
        "\n",
        "            if ultimo_nodo == fin:\n",
        "                return camino_actual\n",
        "\n",
        "            for vecino in self.ady[ultimo_nodo]:\n",
        "                if vecino not in visitados:\n",
        "                    nuevo_camino = list(camino_actual)\n",
        "                    nuevo_camino.append(vecino)\n",
        "\n",
        "                    cola.append(nuevo_camino)\n",
        "                    visitados.add(vecino)\n",
        "\n",
        "        return None\n",
        "\n",
        "mapa = Grafo()\n",
        "\n",
        "ciudades = [\"Querétaro\", \"CDMX\", \"Moreli<\", \"Toluca\", \"Guanajuato\"]\n",
        "for ciudad in ciudades:\n",
        "    mapa.agregar_vertice(ciudad)\n",
        "\n",
        "mapa.agregar_arista(\"Querétaro\", \"CDMX\")\n",
        "mapa.agregar_arista(\"Querétaro\", \"Morelia\")\n",
        "mapa.agregar_arista(\"CDMX\", \"Toluca\")\n",
        "mapa.agregar_arista(\"Morelia\", \"Guanajuato\")\n",
        "mapa.agregar_arista(\"Guanajuato\", \"Toluca\")\n",
        "\n",
        "print(\" Mapa de carreteras creado.\")\n",
        "\n",
        "origen = \"Querétaro\"\n",
        "destino = \"Guanajuato\"\n",
        "\n",
        "ruta_corta = mapa.bfs_camino_corto(origen, destino)\n",
        "\n",
        "print(f\"\\n La ruta más corta de {origen} a {destino} es:\")\n",
        "if ruta_corta:\n",
        "    print(f\"  {' -> '.join(ruta_corta)}\")\n",
        "    print(f\"  Distancia: {len(ruta_corta) - 1} aristas (carreteras).\")\n",
        "else:\n",
        "    print(\"No se encontraron rutas entre estas dos ciudades.\")"
      ]
    }
  ]
}